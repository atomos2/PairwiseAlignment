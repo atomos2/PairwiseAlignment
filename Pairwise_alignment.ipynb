{
 "cells": [
  {
   "cell_type": "markdown",
   "id": "d0b3f177-efd8-4ee9-a8db-01a6d83b2ccc",
   "metadata": {},
   "source": [
    "## Import Library"
   ]
  },
  {
   "cell_type": "code",
   "execution_count": 27,
   "id": "8dcf0560-f333-42ae-a809-9c1691bb15c1",
   "metadata": {},
   "outputs": [],
   "source": [
    "from Bio import SeqIO, Align"
   ]
  },
  {
   "cell_type": "markdown",
   "id": "24952e2d-637e-4569-9aa9-95101235a8cd",
   "metadata": {},
   "source": [
    "## Function for reading fasta"
   ]
  },
  {
   "cell_type": "code",
   "execution_count": 29,
   "id": "17ae2643-39e2-4c3f-a7fb-33c257e1ec85",
   "metadata": {},
   "outputs": [],
   "source": [
    "def read_fasta(path):\n",
    "    try:\n",
    "        record=SeqIO.read(path,\"fasta\")\n",
    "        return str(record.seq)\n",
    "    except Exception as e:\n",
    "        print(f\"Error opening path: {e}\")\n",
    "        exit()\n",
    "    "
   ]
  },
  {
   "cell_type": "markdown",
   "id": "fe3421d5-efde-43f6-a046-cdd1602377c2",
   "metadata": {},
   "source": [
    "## Function for alignment_stats "
   ]
  },
  {
   "cell_type": "code",
   "execution_count": 73,
   "id": "d3646b85-cd0c-4ade-a0da-c3aa2e7056d3",
   "metadata": {},
   "outputs": [],
   "source": [
    "def compute_alignment_stats(alignment):\n",
    "    formatted_alignment=alignment.format().split('\\n')\n",
    "    aligned_seq1=formatted_alignment[0].strip()\n",
    "    aligned_seq2=formatted_alignment[2].strip()\n",
    "\n",
    "    matches = 0\n",
    "    gaps = 0\n",
    "    aligned_length = 0\n",
    "\n",
    "    for a, b in zip(aligned_seq1, aligned_seq2):\n",
    "        if a == '-' or b == '-':\n",
    "            gaps += 1\n",
    "        else:\n",
    "            aligned_length += 1\n",
    "            if a == b:\n",
    "                matches += 1\n",
    "\n",
    "    identity_pct = (matches / aligned_length) * 100 if aligned_length > 0 else 0\n",
    "    gap_pct = (gaps / len(aligned_seq1)) * 100\n",
    "\n",
    "    return {\n",
    "        \"identity (%)\": round(identity_pct, 2),\n",
    "        \"gap (%)\": round(gap_pct, 2),\n",
    "        \"aligned_length\": aligned_length\n",
    "    }"
   ]
  },
  {
   "cell_type": "markdown",
   "id": "04e6e0c9-8164-4965-b8b9-7434e12e680e",
   "metadata": {},
   "source": [
    "## Function for Pairwise alignment"
   ]
  },
  {
   "cell_type": "code",
   "execution_count": 61,
   "id": "79dd2018-1aba-4b44-af38-26e3093a9b97",
   "metadata": {},
   "outputs": [],
   "source": [
    "def alignment(seq1,seq2,mode):\n",
    "    try:\n",
    "        aligner=Align.PairwiseAligner()\n",
    "        aligner.mode=mode\n",
    "        aligner.match_score=2\n",
    "        aligner.mismatch_score=-1\n",
    "        aligner.open_gap_score=-2\n",
    "        aligner.extend_gap_score=-0.5\n",
    "\n",
    "        alignments=aligner.align(seq1,seq2)\n",
    "        top_alignment=alignments[0]\n",
    "\n",
    "        return top_alignment\n",
    "    except Exception as e:\n",
    "        print(f\"Excepion: {e}\")\n",
    "        exit()\n"
   ]
  },
  {
   "cell_type": "markdown",
   "id": "e0704412-69f6-4e89-84bf-e940c4d08556",
   "metadata": {},
   "source": [
    "## Use input for query and target"
   ]
  },
  {
   "cell_type": "code",
   "execution_count": 63,
   "id": "71d65145-6d59-4b3d-9436-eb9a69005d37",
   "metadata": {},
   "outputs": [
    {
     "name": "stdin",
     "output_type": "stream",
     "text": [
      "Enter the fasta path of your query: C:\\Users\\alami\\Downloads\\Keratin1.fasta\n",
      "Enter the fasta path of your target: C:\\Users\\alami\\Downloads\\Keratin.fasta\n"
     ]
    }
   ],
   "source": [
    "path1=input(\"Enter the fasta path of your query:\").strip()\n",
    "path2=input(\"Enter the fasta path of your target:\").strip()\n"
   ]
  },
  {
   "cell_type": "code",
   "execution_count": 65,
   "id": "993b0047-6db6-4898-a2d1-5a4af9b7c2ba",
   "metadata": {},
   "outputs": [],
   "source": [
    "seq1=read_fasta(path1)\n",
    "seq2=read_fasta(path2)"
   ]
  },
  {
   "cell_type": "markdown",
   "id": "b2c1a55c-ed85-4d44-8c4f-b2b71c0d80df",
   "metadata": {},
   "source": [
    "## User input for mode"
   ]
  },
  {
   "cell_type": "code",
   "execution_count": 67,
   "id": "18b7da1b-32c9-43a2-ba00-7e198dbc9dda",
   "metadata": {},
   "outputs": [
    {
     "name": "stdin",
     "output_type": "stream",
     "text": [
      "Enter the mode of pairwise alignment, 'global' or 'local': local\n"
     ]
    }
   ],
   "source": [
    "mode= (input(\"Enter the mode of pairwise alignment, 'global' or 'local':\")).strip().lower()\n",
    "if mode not in ['global','local']:\n",
    "    print (\"Inavalid mode\")\n",
    "    exit()"
   ]
  },
  {
   "cell_type": "code",
   "execution_count": 75,
   "id": "994a27d7-a63c-4116-bb21-4229904da7f8",
   "metadata": {},
   "outputs": [],
   "source": [
    "top_alignments= alignment(seq1,seq2,mode)\n",
    "score= top_alignments.score\n",
    "stats=compute_alignment_stats(top_alignments)"
   ]
  },
  {
   "cell_type": "code",
   "execution_count": 79,
   "id": "ab94abed-846c-4106-9f88-4cb018cb842c",
   "metadata": {},
   "outputs": [
    {
     "name": "stdout",
     "output_type": "stream",
     "text": [
      "The top alignment for the Local alignment is:\n",
      "target            0 KNQRELEAW-L-QTQSESLSKEVAVKTEVLQTTKAEISDLRRTMQNLEIELQSQLSMKAA\n",
      "                  0 ||.|..|.|-|-.|--|.|.||||...|..|....|...|||..|.||||||||||.||.\n",
      "query            69 KNRRDAETWFLSKT--EELNKEVASNSELVQSSRSEVTELRRVLQGLEIELQSQLSTKAS\n",
      "\n",
      "target           58 LEGTLSDTECRYSMQLQSLQIQ--VTSLEEQLMQLRADMERQNQEYNILLDIKTRLEMEI\n",
      "                 60 ||..|..|..||.|||-|-|||--..|.||||.|||..||.|.|||.||||.|||||.||\n",
      "query           127 LENSLEETKGRYCMQL-S-QIQGLIGSVEEQLAQLRCEMEQQSQEYQILLDVKTRLEHEI\n",
      "\n",
      "target          116 AEY 119\n",
      "                120 |.| 123\n",
      "query           185 ATY 188\n",
      "\n",
      "The score for top the alignment is: 88.0\n",
      "The percentage of identity is 57.89%\n",
      "The percentage of gap is 5.0%\n",
      "The aligned length is 76\n"
     ]
    }
   ],
   "source": [
    "print(f\"The top alignment for the {mode.capitalize()} alignment is:\")\n",
    "print(top_alignments)\n",
    "print(f\"The score for top the alignment is: {score}\")\n",
    "print(f\"The percentage of identity is {stats['identity (%)']}%\")\n",
    "print(f\"The percentage of gap is {stats['gap (%)']}%\")\n",
    "print(f\"The aligned length is {stats['aligned_length']}\")"
   ]
  }
 ],
 "metadata": {
  "kernelspec": {
   "display_name": "Python [conda env:base] *",
   "language": "python",
   "name": "conda-base-py"
  },
  "language_info": {
   "codemirror_mode": {
    "name": "ipython",
    "version": 3
   },
   "file_extension": ".py",
   "mimetype": "text/x-python",
   "name": "python",
   "nbconvert_exporter": "python",
   "pygments_lexer": "ipython3",
   "version": "3.12.7"
  }
 },
 "nbformat": 4,
 "nbformat_minor": 5
}
